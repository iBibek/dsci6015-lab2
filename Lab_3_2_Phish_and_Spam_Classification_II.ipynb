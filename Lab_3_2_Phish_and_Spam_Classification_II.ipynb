{
  "nbformat": 4,
  "nbformat_minor": 0,
  "metadata": {
    "colab": {
      "name": "Lab 3.2 - Phish and Spam Classification II.ipynb",
      "provenance": [],
      "collapsed_sections": [],
      "mount_file_id": "1RIDnwJQvdPQRXUZKtQ23PKlLfKuX7_co",
      "authorship_tag": "ABX9TyO5i1gFmud2OUZIxTtqA9yA",
      "include_colab_link": true
    },
    "kernelspec": {
      "name": "python3",
      "display_name": "Python 3"
    },
    "language_info": {
      "name": "python"
    }
  },
  "cells": [
    {
      "cell_type": "markdown",
      "metadata": {
        "id": "view-in-github",
        "colab_type": "text"
      },
      "source": [
        "<a href=\"https://colab.research.google.com/github/iBibek/dsci6015-lab2/blob/main/Lab_3_2_Phish_and_Spam_Classification_II.ipynb\" target=\"_parent\"><img src=\"https://colab.research.google.com/assets/colab-badge.svg\" alt=\"Open In Colab\"/></a>"
      ]
    },
    {
      "cell_type": "markdown",
      "metadata": {
        "id": "DheMgblxnt2E"
      },
      "source": [
        "\n",
        "LINEAR SVM"
      ]
    },
    {
      "cell_type": "code",
      "metadata": {
        "id": "_eSPfaSAgYRe"
      },
      "source": [
        "import pandas as pd\n",
        "import numpy as np\n",
        "import sklearn\n",
        "from sklearn import svm\n",
        "df=pd.read_csv('/content/drive/MyDrive/6015/sms_spam_svm.csv')"
      ],
      "execution_count": 1,
      "outputs": []
    },
    {
      "cell_type": "code",
      "metadata": {
        "colab": {
          "base_uri": "https://localhost:8080/"
        },
        "id": "LbSCeyTZgv5o",
        "outputId": "998102ea-8902-406a-d266-d289347470de"
      },
      "source": [
        "df.columns"
      ],
      "execution_count": null,
      "outputs": [
        {
          "output_type": "execute_result",
          "data": {
            "text/plain": [
              "Index(['type', 'suspect', 'neutral'], dtype='object')"
            ]
          },
          "metadata": {},
          "execution_count": 5
        }
      ]
    },
    {
      "cell_type": "code",
      "metadata": {
        "id": "HvZa7gO_hwQQ"
      },
      "source": [
        "# Packages for visuals\n",
        "import matplotlib.pyplot as plt\n",
        "import seaborn as sns; sns.set(font_scale=1.2)\n",
        "\n",
        "# Allows charts to appear in the notebook\n",
        "%matplotlib inline\n",
        "\n"
      ],
      "execution_count": 2,
      "outputs": []
    },
    {
      "cell_type": "code",
      "metadata": {
        "colab": {
          "base_uri": "https://localhost:8080/"
        },
        "id": "3I0NpyGNiDiS",
        "outputId": "b6f8d318-429d-4526-f57c-2820a36d5e93"
      },
      "source": [
        "#change ham and spam in 1 and 0\n",
        "for i in range(len(df)):\n",
        "    if df['type'][i]==\"ham\":\n",
        "        df['type'][i]=1 \n",
        "    else:\n",
        "        df['type'][i]=0"
      ],
      "execution_count": 3,
      "outputs": [
        {
          "output_type": "stream",
          "name": "stderr",
          "text": [
            "/usr/local/lib/python3.7/dist-packages/ipykernel_launcher.py:4: SettingWithCopyWarning: \n",
            "A value is trying to be set on a copy of a slice from a DataFrame\n",
            "\n",
            "See the caveats in the documentation: https://pandas.pydata.org/pandas-docs/stable/user_guide/indexing.html#returning-a-view-versus-a-copy\n",
            "  after removing the cwd from sys.path.\n",
            "/usr/local/lib/python3.7/dist-packages/ipykernel_launcher.py:6: SettingWithCopyWarning: \n",
            "A value is trying to be set on a copy of a slice from a DataFrame\n",
            "\n",
            "See the caveats in the documentation: https://pandas.pydata.org/pandas-docs/stable/user_guide/indexing.html#returning-a-view-versus-a-copy\n",
            "  \n"
          ]
        }
      ]
    },
    {
      "cell_type": "code",
      "metadata": {
        "id": "6rRDQMxnh3Xf"
      },
      "source": [
        "from sklearn.model_selection import train_test_split\n",
        "from sklearn import preprocessing\n",
        "from sklearn.svm import SVC\n",
        "from sklearn.metrics import accuracy_score, confusion_matrix,classification_report\n",
        "import time\n",
        "from sklearn.model_selection import GridSearchCV\n",
        "\n",
        "x=df.drop('type',axis=1)\n",
        "y=df[\"type\"]\n",
        "x=x.to_numpy()\n",
        "\n",
        "#Scale the features\n",
        "minmax=preprocessing.MinMaxScaler()\n",
        "X=minmax.fit_transform(x)"
      ],
      "execution_count": 4,
      "outputs": []
    },
    {
      "cell_type": "code",
      "metadata": {
        "colab": {
          "base_uri": "https://localhost:8080/"
        },
        "id": "5QAzsmPWkcM1",
        "outputId": "3bb8cb65-0d96-4110-b010-2802e7e384d0"
      },
      "source": [
        "X_train, X_test, y_train, y_test = train_test_split(X, y, test_size = 0.20 ,shuffle=True, random_state=None)\n",
        "print(\"Training size:\",X_train.shape)\n",
        "print(\"Testing size:\",X_test.shape)\n"
      ],
      "execution_count": 5,
      "outputs": [
        {
          "output_type": "stream",
          "name": "stdout",
          "text": [
            "Training size: (120, 2)\n",
            "Testing size: (30, 2)\n"
          ]
        }
      ]
    },
    {
      "cell_type": "code",
      "metadata": {
        "colab": {
          "base_uri": "https://localhost:8080/"
        },
        "id": "FIBQiQATjopD",
        "outputId": "1e9e3b39-335a-4fe8-98b2-7345b9f29017"
      },
      "source": [
        "#Since we only have two features lets use the Linear SVM\n",
        "svclassifier = SVC(kernel='linear')\n",
        "svclassifier.fit(X_train, np.array(y_train).astype('int'))"
      ],
      "execution_count": 6,
      "outputs": [
        {
          "output_type": "execute_result",
          "data": {
            "text/plain": [
              "SVC(C=1.0, break_ties=False, cache_size=200, class_weight=None, coef0=0.0,\n",
              "    decision_function_shape='ovr', degree=3, gamma='scale', kernel='linear',\n",
              "    max_iter=-1, probability=False, random_state=None, shrinking=True,\n",
              "    tol=0.001, verbose=False)"
            ]
          },
          "metadata": {},
          "execution_count": 6
        }
      ]
    },
    {
      "cell_type": "code",
      "metadata": {
        "colab": {
          "base_uri": "https://localhost:8080/"
        },
        "id": "Yhf8_EUqnkBo",
        "outputId": "c1c09824-d21c-4173-f816-e3fd4328fa2f"
      },
      "source": [
        "y_pred = svclassifier.predict(X_test)\n",
        "print(\"Accuracy via Linear SVM =\", sklearn.metrics.accuracy_score(list(y_test),list(y_pred)) * 100)\n",
        " "
      ],
      "execution_count": 7,
      "outputs": [
        {
          "output_type": "stream",
          "name": "stdout",
          "text": [
            "Accuracy via Linear SVM = 80.0\n"
          ]
        }
      ]
    },
    {
      "cell_type": "code",
      "metadata": {
        "id": "P3ALPnpSodEs"
      },
      "source": [
        "# -------------LINEAR PERCEPTRON---------------------\n",
        "#Perceptron using Sklearn\n",
        "#--------------------\n",
        "#--------------------#--------------------\n",
        "#--------------------#--------------------#--------------------#--------------------\n",
        "#--------------------#--------------------#--------------------#--------------------\n",
        "#--------------------#--------------------#--------------------#-------------------- "
      ],
      "execution_count": 38,
      "outputs": []
    },
    {
      "cell_type": "code",
      "metadata": {
        "id": "Zko5jhzQUHKl"
      },
      "source": [
        "import pandas as pd\n",
        "df=pd.read_csv('/content/drive/MyDrive/6015/sms_spam_perceptron.csv')"
      ],
      "execution_count": 13,
      "outputs": []
    },
    {
      "cell_type": "code",
      "metadata": {
        "id": "VdNHqtEvUM6V"
      },
      "source": [
        "x=df.drop(\"type\",axis=1)\n",
        "x=x.to_numpy()"
      ],
      "execution_count": 14,
      "outputs": []
    },
    {
      "cell_type": "code",
      "metadata": {
        "id": "8E0CVDjAUb62"
      },
      "source": [
        "y=np.where(df['type']=='ham',1,0) # converting ham to 1 and spam to 0"
      ],
      "execution_count": 18,
      "outputs": []
    },
    {
      "cell_type": "code",
      "metadata": {
        "id": "LPWzEQx_UNdU"
      },
      "source": [
        "X_train, X_test, y_train, y_test = train_test_split(x, y, test_size=0.3)\n"
      ],
      "execution_count": 20,
      "outputs": []
    },
    {
      "cell_type": "code",
      "metadata": {
        "id": "x5pZ2hSAUqpO"
      },
      "source": [
        "#import necessary modules\n",
        "from sklearn.model_selection import train_test_split\n",
        "from sklearn.metrics import accuracy_score\n",
        "import numpy as np"
      ],
      "execution_count": 25,
      "outputs": []
    },
    {
      "cell_type": "code",
      "metadata": {
        "colab": {
          "base_uri": "https://localhost:8080/"
        },
        "id": "YGlPaclrUf6J",
        "outputId": "facbe71d-49d0-4b2c-eedc-1c155933f4bd"
      },
      "source": [
        "from sklearn.preprocessing import StandardScaler\n",
        "# we want to  remove the mean and scales each feature/variable to unit variance\n",
        "sc = StandardScaler()\n",
        "sc.fit(X_train)"
      ],
      "execution_count": 27,
      "outputs": [
        {
          "output_type": "execute_result",
          "data": {
            "text/plain": [
              "StandardScaler(copy=True, with_mean=True, with_std=True)"
            ]
          },
          "metadata": {},
          "execution_count": 27
        }
      ]
    },
    {
      "cell_type": "code",
      "metadata": {
        "id": "qj1YNf0vUmPX"
      },
      "source": [
        "#lets convert both train and test data\n",
        "X_train_std = sc.transform(X_train)\n",
        "X_test_std = sc.transform(X_test)"
      ],
      "execution_count": 28,
      "outputs": []
    },
    {
      "cell_type": "code",
      "metadata": {
        "colab": {
          "base_uri": "https://localhost:8080/"
        },
        "id": "b5JXGrBQUn0-",
        "outputId": "6a833986-b845-408a-fe22-ccbc8c674515"
      },
      "source": [
        "from sklearn.linear_model import Perceptron\n",
        "# set Perceptron parameters: 40 iterations (epochs) over the data, and a learning rate of 0.1\n",
        "ppn = Perceptron(max_iter =40, eta0=0.1, random_state=0)\n",
        "# Train the perceptron\n",
        "ppn.fit(X_train_std, y_train)"
      ],
      "execution_count": 30,
      "outputs": [
        {
          "output_type": "execute_result",
          "data": {
            "text/plain": [
              "Perceptron(alpha=0.0001, class_weight=None, early_stopping=False, eta0=0.1,\n",
              "           fit_intercept=True, max_iter=40, n_iter_no_change=5, n_jobs=None,\n",
              "           penalty=None, random_state=0, shuffle=True, tol=0.001,\n",
              "           validation_fraction=0.1, verbose=0, warm_start=False)"
            ]
          },
          "metadata": {},
          "execution_count": 30
        }
      ]
    },
    {
      "cell_type": "code",
      "metadata": {
        "id": "G-wn0alhU5vm"
      },
      "source": [
        "y_pred = ppn.predict(X_test_std)\n"
      ],
      "execution_count": 31,
      "outputs": []
    },
    {
      "cell_type": "code",
      "metadata": {
        "colab": {
          "base_uri": "https://localhost:8080/"
        },
        "id": "0HibqW6aU7jw",
        "outputId": "c3bbcf4d-bb4c-4783-b812-0a6383b734c8"
      },
      "source": [
        "print('The Accuracy of Perceptron model is: %.2f' % accuracy_score(y_test, y_pred))\n"
      ],
      "execution_count": 34,
      "outputs": [
        {
          "output_type": "stream",
          "name": "stdout",
          "text": [
            "The Accuracy of Perceptron model is: 0.90\n"
          ]
        }
      ]
    }
  ]
}