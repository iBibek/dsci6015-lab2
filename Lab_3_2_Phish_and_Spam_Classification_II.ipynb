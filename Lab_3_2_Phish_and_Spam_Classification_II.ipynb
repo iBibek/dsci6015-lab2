{
  "nbformat": 4,
  "nbformat_minor": 0,
  "metadata": {
    "colab": {
      "name": "Lab 3.2 - Phish and Spam Classification II.ipynb",
      "provenance": [],
      "collapsed_sections": []
    },
    "kernelspec": {
      "name": "python3",
      "display_name": "Python 3"
    },
    "language_info": {
      "name": "python"
    }
  },
  "cells": [
    {
      "cell_type": "markdown",
      "metadata": {
        "id": "DheMgblxnt2E"
      },
      "source": [
        "\n",
        "LINEAR SVM"
      ]
    },
    {
      "cell_type": "code",
      "metadata": {
        "id": "_eSPfaSAgYRe"
      },
      "source": [
        "import pandas as pd\n",
        "import numpy as np\n",
        "import sklearn\n",
        "from sklearn import svm\n",
        "df=pd.read_csv('/content/drive/MyDrive/6015/sms_spam_svm.csv')"
      ],
      "execution_count": null,
      "outputs": []
    },
    {
      "cell_type": "code",
      "metadata": {
        "colab": {
          "base_uri": "https://localhost:8080/"
        },
        "id": "LbSCeyTZgv5o",
        "outputId": "998102ea-8902-406a-d266-d289347470de"
      },
      "source": [
        "df.columns"
      ],
      "execution_count": null,
      "outputs": [
        {
          "output_type": "execute_result",
          "data": {
            "text/plain": [
              "Index(['type', 'suspect', 'neutral'], dtype='object')"
            ]
          },
          "metadata": {},
          "execution_count": 5
        }
      ]
    },
    {
      "cell_type": "code",
      "metadata": {
        "id": "HvZa7gO_hwQQ"
      },
      "source": [
        "# Packages for visuals\n",
        "import matplotlib.pyplot as plt\n",
        "import seaborn as sns; sns.set(font_scale=1.2)\n",
        "\n",
        "# Allows charts to appear in the notebook\n",
        "%matplotlib inline\n",
        "\n",
        "# Pickle package\n",
        "import pickle"
      ],
      "execution_count": null,
      "outputs": []
    },
    {
      "cell_type": "code",
      "metadata": {
        "colab": {
          "base_uri": "https://localhost:8080/"
        },
        "id": "3I0NpyGNiDiS",
        "outputId": "8441633e-0d84-4667-fbce-3d4124cdb35f"
      },
      "source": [
        "#change ham and spam in 1 and 0\n",
        "for i in range(len(df)):\n",
        "    if df['type'][i]==\"ham\":\n",
        "        df['type'][i]=1 \n",
        "    else:\n",
        "        df['type'][i]=0"
      ],
      "execution_count": null,
      "outputs": [
        {
          "output_type": "stream",
          "name": "stderr",
          "text": [
            "/usr/local/lib/python3.7/dist-packages/ipykernel_launcher.py:4: SettingWithCopyWarning: \n",
            "A value is trying to be set on a copy of a slice from a DataFrame\n",
            "\n",
            "See the caveats in the documentation: https://pandas.pydata.org/pandas-docs/stable/user_guide/indexing.html#returning-a-view-versus-a-copy\n",
            "  after removing the cwd from sys.path.\n",
            "/usr/local/lib/python3.7/dist-packages/ipykernel_launcher.py:6: SettingWithCopyWarning: \n",
            "A value is trying to be set on a copy of a slice from a DataFrame\n",
            "\n",
            "See the caveats in the documentation: https://pandas.pydata.org/pandas-docs/stable/user_guide/indexing.html#returning-a-view-versus-a-copy\n",
            "  \n"
          ]
        }
      ]
    },
    {
      "cell_type": "code",
      "metadata": {
        "id": "6rRDQMxnh3Xf"
      },
      "source": [
        "from sklearn.model_selection import train_test_split\n",
        "from sklearn import preprocessing\n",
        "from sklearn.svm import SVC\n",
        "from sklearn.metrics import accuracy_score, confusion_matrix,classification_report\n",
        "import time\n",
        "from sklearn.model_selection import GridSearchCV\n",
        "\n",
        "x=df.drop('type',axis=1)\n",
        "y=df[\"type\"]\n",
        "x=x.to_numpy()\n",
        "\n",
        "#Scale the features\n",
        "minmax=preprocessing.MinMaxScaler()\n",
        "X=minmax.fit_transform(x)"
      ],
      "execution_count": null,
      "outputs": []
    },
    {
      "cell_type": "code",
      "metadata": {
        "colab": {
          "base_uri": "https://localhost:8080/"
        },
        "id": "5QAzsmPWkcM1",
        "outputId": "351bac56-7cbe-4556-db77-384152fd4d2e"
      },
      "source": [
        "X_train, X_test, y_train, y_test = train_test_split(X, y, test_size = 0.20 ,shuffle=True, random_state=None)\n",
        "print(\"Training size:\",X_train.shape)\n",
        "print(\"Testing size:\",X_test.shape)\n"
      ],
      "execution_count": null,
      "outputs": [
        {
          "output_type": "stream",
          "name": "stdout",
          "text": [
            "Training size: (120, 2)\n",
            "Testing size: (30, 2)\n"
          ]
        }
      ]
    },
    {
      "cell_type": "code",
      "metadata": {
        "colab": {
          "base_uri": "https://localhost:8080/"
        },
        "id": "FIBQiQATjopD",
        "outputId": "7139d6f4-dbd3-40aa-ac6f-e2c90680e74b"
      },
      "source": [
        "#Since we only have two features lets use the Linear SVM\n",
        "svclassifier = SVC(kernel='linear')\n",
        "svclassifier.fit(X_train, np.array(y_train).astype('int'))"
      ],
      "execution_count": null,
      "outputs": [
        {
          "output_type": "execute_result",
          "data": {
            "text/plain": [
              "SVC(C=1.0, break_ties=False, cache_size=200, class_weight=None, coef0=0.0,\n",
              "    decision_function_shape='ovr', degree=3, gamma='scale', kernel='linear',\n",
              "    max_iter=-1, probability=False, random_state=None, shrinking=True,\n",
              "    tol=0.001, verbose=False)"
            ]
          },
          "metadata": {},
          "execution_count": 93
        }
      ]
    },
    {
      "cell_type": "code",
      "metadata": {
        "colab": {
          "base_uri": "https://localhost:8080/"
        },
        "id": "Yhf8_EUqnkBo",
        "outputId": "73f819e8-e277-44cc-ed33-19e51efbdd82"
      },
      "source": [
        "y_pred = svclassifier.predict(X_test)\n",
        "print(\"Accuracy via Linear SVM =\", sklearn.metrics.accuracy_score(list(y_test),list(y_pred)) * 100)\n",
        " "
      ],
      "execution_count": null,
      "outputs": [
        {
          "output_type": "stream",
          "name": "stdout",
          "text": [
            "Accuracy via Linear SVM = 80.0\n"
          ]
        }
      ]
    },
    {
      "cell_type": "code",
      "metadata": {
        "id": "P3ALPnpSodEs"
      },
      "source": [
        "# -------------LINEAR PERCEPTRON---------------------"
      ],
      "execution_count": null,
      "outputs": []
    },
    {
      "cell_type": "code",
      "metadata": {
        "id": "ExK6vOvkofz5"
      },
      "source": [
        "import pandas as pd\n",
        "\n",
        "\n",
        "df=pd.read_csv('/content/drive/MyDrive/6015/sms_spam_perceptron.csv')"
      ],
      "execution_count": null,
      "outputs": []
    },
    {
      "cell_type": "code",
      "metadata": {
        "id": "1ZcJd2MMqlQT"
      },
      "source": [
        "x=df.drop(\"type\",axis=1)\n",
        "x=x.to_numpy()\n",
        "minmax=preprocessing.MinMaxScaler()\n",
        "samples=minmax.fit_transform(x)\n",
        "targets=np.where(df['type']=='ham',1,0)\n",
        "from sklearn.model_selection import train_test_split\n",
        "training_samples, testing_samples, training_targets, testing_targets = train_test_split(samples, targets, test_size=0.2, random_state=42)\n",
        "import torch\n",
        "x_train=torch.from_numpy(training_samples.astype(np.float32))\n",
        "x_test=torch.from_numpy(testing_samples.astype(np.float32))\n",
        "y_train=torch.from_numpy(training_targets.astype(np.float32))\n",
        "y_test=torch.from_numpy(testing_targets.astype(np.float32))"
      ],
      "execution_count": null,
      "outputs": []
    },
    {
      "cell_type": "code",
      "metadata": {
        "id": "0b2HSvIlommI"
      },
      "source": [
        "import numpy as np\n",
        "import torch\n",
        "from torch import nn\n",
        "\n",
        "class Perceptron(torch.nn.Module):   \n",
        "    def __init__(self):\n",
        "        super(Perceptron, self).__init__()\n",
        "        self.linear = torch.nn.Linear(2, 1)  \n",
        "        self.relu=torch.nn.ReLU()\n",
        "    def forward(self, x):\n",
        "        y_pred = self.linear(x)\n",
        "        return y_pred\n",
        "\n",
        "slp = Perceptron()\n",
        "criterion = torch.nn.CrossEntropyLoss()\n",
        "optimizer = torch.optim.SGD(slp.parameters() , lr=0.0001)\n",
        "\n",
        "\n",
        "  "
      ],
      "execution_count": null,
      "outputs": []
    },
    {
      "cell_type": "code",
      "metadata": {
        "id": "113fvhXdvlYl"
      },
      "source": [
        "for epoch in range(600):\n",
        "    slp.train()\n",
        "    optimizer.zero_grad()    # Forward pass\n",
        "    y_pred = slp(x_train)    # Compute Loss\n",
        "    loss = torch.nn.functional.binary_cross_entropy_with_logits(y_pred.reshape(-1), y_train)\n",
        "    loss.backward()\n",
        "    optimizer.step()"
      ],
      "execution_count": null,
      "outputs": []
    },
    {
      "cell_type": "code",
      "metadata": {
        "colab": {
          "base_uri": "https://localhost:8080/"
        },
        "id": "grSO1LtEqmS_",
        "outputId": "cc80c938-0005-4ff5-82d5-e64359bd5696"
      },
      "source": [
        "slp.eval()\n",
        "tar_pred = slp(x_test)\n",
        "tr=np.array(y_test.cpu().detach().numpy() ) == 1\n",
        "op=np.array(tar_pred.cpu().detach().numpy()) >=0.5\n",
        "print(\"The accuracy for Logistic Regression Model is: \", 100* sklearn.metrics.accuracy_score(tr,op))"
      ],
      "execution_count": null,
      "outputs": [
        {
          "output_type": "stream",
          "name": "stdout",
          "text": [
            "The accuracy for Logistic Regression Model is:  70.0\n"
          ]
        }
      ]
    },
    {
      "cell_type": "code",
      "metadata": {
        "id": "u09r_BFzqymd"
      },
      "source": [
        ""
      ],
      "execution_count": null,
      "outputs": []
    }
  ]
}